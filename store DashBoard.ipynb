{
 "cells": [
  {
   "cell_type": "code",
   "execution_count": 0,
   "metadata": {
    "application/vnd.databricks.v1+cell": {
     "cellMetadata": {
      "byteLimit": 2048000,
      "rowLimit": 10000
     },
     "inputWidgets": {},
     "nuid": "6d13e295-0bba-4753-8426-3b63ceddc0a0",
     "showTitle": false,
     "title": ""
    }
   },
   "outputs": [
    {
     "output_type": "stream",
     "name": "stdout",
     "output_type": "stream",
     "text": [
      "Python interpreter will be restarted.\nRequirement already satisfied: snowflake in /local_disk0/.ephemeral_nfs/envs/pythonEnv-535ccc39-13bd-4033-a4fc-00951ce60b02/lib/python3.9/site-packages (0.6.0)\nRequirement already satisfied: snowflake-core==0.6.0 in /local_disk0/.ephemeral_nfs/envs/pythonEnv-535ccc39-13bd-4033-a4fc-00951ce60b02/lib/python3.9/site-packages (from snowflake) (0.6.0)\nRequirement already satisfied: snowflake-legacy in /local_disk0/.ephemeral_nfs/envs/pythonEnv-535ccc39-13bd-4033-a4fc-00951ce60b02/lib/python3.9/site-packages (from snowflake) (0.5.0)\nRequirement already satisfied: python-dateutil>=2.8.2 in /databricks/python3/lib/python3.9/site-packages (from snowflake-core==0.6.0->snowflake) (2.8.2)\nRequirement already satisfied: pydantic>=1.10.7 in /local_disk0/.ephemeral_nfs/envs/pythonEnv-535ccc39-13bd-4033-a4fc-00951ce60b02/lib/python3.9/site-packages (from snowflake-core==0.6.0->snowflake) (2.6.4)\nRequirement already satisfied: urllib3 in /databricks/python3/lib/python3.9/site-packages (from snowflake-core==0.6.0->snowflake) (1.26.9)\nRequirement already satisfied: snowflake-snowpark-python<2.0.0,>=1.5.0 in /local_disk0/.ephemeral_nfs/envs/pythonEnv-535ccc39-13bd-4033-a4fc-00951ce60b02/lib/python3.9/site-packages (from snowflake-core==0.6.0->snowflake) (1.13.0)\nRequirement already satisfied: atpublic>=4 in /local_disk0/.ephemeral_nfs/envs/pythonEnv-535ccc39-13bd-4033-a4fc-00951ce60b02/lib/python3.9/site-packages (from snowflake-core==0.6.0->snowflake) (4.0)\nRequirement already satisfied: annotated-types>=0.4.0 in /local_disk0/.ephemeral_nfs/envs/pythonEnv-535ccc39-13bd-4033-a4fc-00951ce60b02/lib/python3.9/site-packages (from pydantic>=1.10.7->snowflake-core==0.6.0->snowflake) (0.6.0)\nRequirement already satisfied: typing-extensions>=4.6.1 in /local_disk0/.ephemeral_nfs/envs/pythonEnv-535ccc39-13bd-4033-a4fc-00951ce60b02/lib/python3.9/site-packages (from pydantic>=1.10.7->snowflake-core==0.6.0->snowflake) (4.10.0)\nRequirement already satisfied: pydantic-core==2.16.3 in /local_disk0/.ephemeral_nfs/envs/pythonEnv-535ccc39-13bd-4033-a4fc-00951ce60b02/lib/python3.9/site-packages (from pydantic>=1.10.7->snowflake-core==0.6.0->snowflake) (2.16.3)\nRequirement already satisfied: six>=1.5 in /databricks/python3/lib/python3.9/site-packages (from python-dateutil>=2.8.2->snowflake-core==0.6.0->snowflake) (1.16.0)\nRequirement already satisfied: wheel in /databricks/python3/lib/python3.9/site-packages (from snowflake-snowpark-python<2.0.0,>=1.5.0->snowflake-core==0.6.0->snowflake) (0.37.0)\nRequirement already satisfied: setuptools>=40.6.0 in /databricks/python3/lib/python3.9/site-packages (from snowflake-snowpark-python<2.0.0,>=1.5.0->snowflake-core==0.6.0->snowflake) (61.2.0)\nRequirement already satisfied: cloudpickle!=2.1.0,!=2.2.0,<=2.2.1,>=1.6.0 in /local_disk0/.ephemeral_nfs/envs/pythonEnv-535ccc39-13bd-4033-a4fc-00951ce60b02/lib/python3.9/site-packages (from snowflake-snowpark-python<2.0.0,>=1.5.0->snowflake-core==0.6.0->snowflake) (2.2.1)\nRequirement already satisfied: snowflake-connector-python<4.0.0,>=3.6.0 in /local_disk0/.ephemeral_nfs/envs/pythonEnv-535ccc39-13bd-4033-a4fc-00951ce60b02/lib/python3.9/site-packages (from snowflake-snowpark-python<2.0.0,>=1.5.0->snowflake-core==0.6.0->snowflake) (3.7.1)\nRequirement already satisfied: pyyaml in /local_disk0/.ephemeral_nfs/envs/pythonEnv-535ccc39-13bd-4033-a4fc-00951ce60b02/lib/python3.9/site-packages (from snowflake-snowpark-python<2.0.0,>=1.5.0->snowflake-core==0.6.0->snowflake) (6.0.1)\nRequirement already satisfied: asn1crypto<2.0.0,>0.24.0 in /local_disk0/.ephemeral_nfs/envs/pythonEnv-535ccc39-13bd-4033-a4fc-00951ce60b02/lib/python3.9/site-packages (from snowflake-connector-python<4.0.0,>=3.6.0->snowflake-snowpark-python<2.0.0,>=1.5.0->snowflake-core==0.6.0->snowflake) (1.5.1)\nRequirement already satisfied: pyjwt<3.0.0 in /local_disk0/.ephemeral_nfs/envs/pythonEnv-535ccc39-13bd-4033-a4fc-00951ce60b02/lib/python3.9/site-packages (from snowflake-connector-python<4.0.0,>=3.6.0->snowflake-snowpark-python<2.0.0,>=1.5.0->snowflake-core==0.6.0->snowflake) (2.8.0)\nRequirement already satisfied: platformdirs<4.0.0,>=2.6.0 in /usr/local/lib/python3.9/dist-packages (from snowflake-connector-python<4.0.0,>=3.6.0->snowflake-snowpark-python<2.0.0,>=1.5.0->snowflake-core==0.6.0->snowflake) (2.6.2)\nRequirement already satisfied: pyOpenSSL<25.0.0,>=16.2.0 in /local_disk0/.ephemeral_nfs/envs/pythonEnv-535ccc39-13bd-4033-a4fc-00951ce60b02/lib/python3.9/site-packages (from snowflake-connector-python<4.0.0,>=3.6.0->snowflake-snowpark-python<2.0.0,>=1.5.0->snowflake-core==0.6.0->snowflake) (24.1.0)\nRequirement already satisfied: filelock<4,>=3.5 in /usr/local/lib/python3.9/dist-packages (from snowflake-connector-python<4.0.0,>=3.6.0->snowflake-snowpark-python<2.0.0,>=1.5.0->snowflake-core==0.6.0->snowflake) (3.9.0)\nRequirement already satisfied: tomlkit in /local_disk0/.ephemeral_nfs/envs/pythonEnv-535ccc39-13bd-4033-a4fc-00951ce60b02/lib/python3.9/site-packages (from snowflake-connector-python<4.0.0,>=3.6.0->snowflake-snowpark-python<2.0.0,>=1.5.0->snowflake-core==0.6.0->snowflake) (0.12.4)\nRequirement already satisfied: cryptography<43.0.0,>=3.1.0 in /local_disk0/.ephemeral_nfs/envs/pythonEnv-535ccc39-13bd-4033-a4fc-00951ce60b02/lib/python3.9/site-packages (from snowflake-connector-python<4.0.0,>=3.6.0->snowflake-snowpark-python<2.0.0,>=1.5.0->snowflake-core==0.6.0->snowflake) (42.0.5)\nRequirement already satisfied: charset-normalizer<4,>=2 in /databricks/python3/lib/python3.9/site-packages (from snowflake-connector-python<4.0.0,>=3.6.0->snowflake-snowpark-python<2.0.0,>=1.5.0->snowflake-core==0.6.0->snowflake) (2.0.4)\nRequirement already satisfied: pytz in /databricks/python3/lib/python3.9/site-packages (from snowflake-connector-python<4.0.0,>=3.6.0->snowflake-snowpark-python<2.0.0,>=1.5.0->snowflake-core==0.6.0->snowflake) (2021.3)\nRequirement already satisfied: certifi>=2017.4.17 in /databricks/python3/lib/python3.9/site-packages (from snowflake-connector-python<4.0.0,>=3.6.0->snowflake-snowpark-python<2.0.0,>=1.5.0->snowflake-core==0.6.0->snowflake) (2021.10.8)\nRequirement already satisfied: idna<4,>=2.5 in /databricks/python3/lib/python3.9/site-packages (from snowflake-connector-python<4.0.0,>=3.6.0->snowflake-snowpark-python<2.0.0,>=1.5.0->snowflake-core==0.6.0->snowflake) (3.3)\nRequirement already satisfied: packaging in /databricks/python3/lib/python3.9/site-packages (from snowflake-connector-python<4.0.0,>=3.6.0->snowflake-snowpark-python<2.0.0,>=1.5.0->snowflake-core==0.6.0->snowflake) (21.3)\nRequirement already satisfied: cffi<2.0.0,>=1.9 in /databricks/python3/lib/python3.9/site-packages (from snowflake-connector-python<4.0.0,>=3.6.0->snowflake-snowpark-python<2.0.0,>=1.5.0->snowflake-core==0.6.0->snowflake) (1.15.0)\nRequirement already satisfied: sortedcontainers>=2.4.0 in /local_disk0/.ephemeral_nfs/envs/pythonEnv-535ccc39-13bd-4033-a4fc-00951ce60b02/lib/python3.9/site-packages (from snowflake-connector-python<4.0.0,>=3.6.0->snowflake-snowpark-python<2.0.0,>=1.5.0->snowflake-core==0.6.0->snowflake) (2.4.0)\nRequirement already satisfied: requests<3.0.0 in /databricks/python3/lib/python3.9/site-packages (from snowflake-connector-python<4.0.0,>=3.6.0->snowflake-snowpark-python<2.0.0,>=1.5.0->snowflake-core==0.6.0->snowflake) (2.27.1)\nRequirement already satisfied: pycparser in /databricks/python3/lib/python3.9/site-packages (from cffi<2.0.0,>=1.9->snowflake-connector-python<4.0.0,>=3.6.0->snowflake-snowpark-python<2.0.0,>=1.5.0->snowflake-core==0.6.0->snowflake) (2.21)\nRequirement already satisfied: pyparsing!=3.0.5,>=2.0.2 in /databricks/python3/lib/python3.9/site-packages (from packaging->snowflake-connector-python<4.0.0,>=3.6.0->snowflake-snowpark-python<2.0.0,>=1.5.0->snowflake-core==0.6.0->snowflake) (3.0.4)\nPython interpreter will be restarted.\nPython interpreter will be restarted.\nRequirement already satisfied: snowflake-connector-python in /local_disk0/.ephemeral_nfs/envs/pythonEnv-535ccc39-13bd-4033-a4fc-00951ce60b02/lib/python3.9/site-packages (3.7.1)\nRequirement already satisfied: asn1crypto<2.0.0,>0.24.0 in /local_disk0/.ephemeral_nfs/envs/pythonEnv-535ccc39-13bd-4033-a4fc-00951ce60b02/lib/python3.9/site-packages (from snowflake-connector-python) (1.5.1)\nRequirement already satisfied: pyjwt<3.0.0 in /local_disk0/.ephemeral_nfs/envs/pythonEnv-535ccc39-13bd-4033-a4fc-00951ce60b02/lib/python3.9/site-packages (from snowflake-connector-python) (2.8.0)\nRequirement already satisfied: platformdirs<4.0.0,>=2.6.0 in /usr/local/lib/python3.9/dist-packages (from snowflake-connector-python) (2.6.2)\nRequirement already satisfied: pyOpenSSL<25.0.0,>=16.2.0 in /local_disk0/.ephemeral_nfs/envs/pythonEnv-535ccc39-13bd-4033-a4fc-00951ce60b02/lib/python3.9/site-packages (from snowflake-connector-python) (24.1.0)\nRequirement already satisfied: filelock<4,>=3.5 in /usr/local/lib/python3.9/dist-packages (from snowflake-connector-python) (3.9.0)\nRequirement already satisfied: tomlkit in /local_disk0/.ephemeral_nfs/envs/pythonEnv-535ccc39-13bd-4033-a4fc-00951ce60b02/lib/python3.9/site-packages (from snowflake-connector-python) (0.12.4)\nRequirement already satisfied: cryptography<43.0.0,>=3.1.0 in /local_disk0/.ephemeral_nfs/envs/pythonEnv-535ccc39-13bd-4033-a4fc-00951ce60b02/lib/python3.9/site-packages (from snowflake-connector-python) (42.0.5)\nRequirement already satisfied: charset-normalizer<4,>=2 in /databricks/python3/lib/python3.9/site-packages (from snowflake-connector-python) (2.0.4)\nRequirement already satisfied: pytz in /databricks/python3/lib/python3.9/site-packages (from snowflake-connector-python) (2021.3)\nRequirement already satisfied: certifi>=2017.4.17 in /databricks/python3/lib/python3.9/site-packages (from snowflake-connector-python) (2021.10.8)\nRequirement already satisfied: urllib3<2.0.0,>=1.21.1 in /databricks/python3/lib/python3.9/site-packages (from snowflake-connector-python) (1.26.9)\nRequirement already satisfied: idna<4,>=2.5 in /databricks/python3/lib/python3.9/site-packages (from snowflake-connector-python) (3.3)\nRequirement already satisfied: packaging in /databricks/python3/lib/python3.9/site-packages (from snowflake-connector-python) (21.3)\nRequirement already satisfied: typing-extensions<5,>=4.3 in /local_disk0/.ephemeral_nfs/envs/pythonEnv-535ccc39-13bd-4033-a4fc-00951ce60b02/lib/python3.9/site-packages (from snowflake-connector-python) (4.10.0)\nRequirement already satisfied: cffi<2.0.0,>=1.9 in /databricks/python3/lib/python3.9/site-packages (from snowflake-connector-python) (1.15.0)\nRequirement already satisfied: sortedcontainers>=2.4.0 in /local_disk0/.ephemeral_nfs/envs/pythonEnv-535ccc39-13bd-4033-a4fc-00951ce60b02/lib/python3.9/site-packages (from snowflake-connector-python) (2.4.0)\nRequirement already satisfied: requests<3.0.0 in /databricks/python3/lib/python3.9/site-packages (from snowflake-connector-python) (2.27.1)\nRequirement already satisfied: pycparser in /databricks/python3/lib/python3.9/site-packages (from cffi<2.0.0,>=1.9->snowflake-connector-python) (2.21)\nRequirement already satisfied: pyparsing!=3.0.5,>=2.0.2 in /databricks/python3/lib/python3.9/site-packages (from packaging->snowflake-connector-python) (3.0.4)\nPython interpreter will be restarted.\n"
     ]
    },
    {
     "output_type": "display_data",
     "data": {
      "application/vnd.databricks.v1+bamboolib_hint": "{\"pd.DataFrames\": [], \"version\": \"0.0.1\"}",
      "text/plain": []
     },
     "metadata": {},
     "output_type": "display_data"
    }
   ],
   "source": [
    "%pip install snowflake\n",
    "%pip install snowflake-connector-python\n",
    "import pandas as pd\n",
    "from pyspark.sql import SparkSession\n",
    "import snowflake.connector\n",
    "\n",
    "# Snowflake connection parameters\n",
    "account = 'My Account'\n",
    "user = 'My User Name'\n",
    "password = 'My Password'\n",
    "warehouse = 'My Warehouse Name'\n",
    "database = 'My Database Name'\n",
    "schema = 'My Schema Name'\n",
    "table_name = 'My Table Name'  # Table name without '.csv' suffix\n",
    "\n",
    "# Snowflake URL\n",
    "snowflake_url = ''\n",
    "\n",
    "# Load CSV into a Spark DataFrame\n",
    "file_path = \"/FileStore/Details.csv\"\n",
    "spark = SparkSession.builder.appName(\"SnowflakeIntegration\").getOrCreate()\n",
    "df = spark.read.csv(file_path, header=True, inferSchema=True)\n",
    "\n",
    "# Snowflake connection\n",
    "conn = snowflake.connector.connect(\n",
    "    user=user,\n",
    "    password=password,\n",
    "    account=account,\n",
    "    warehouse=warehouse,\n",
    "    database=database,\n",
    "    schema=schema,\n",
    "    sfURL=snowflake_url  # Include Snowflake URL\n",
    ")\n",
    "\n",
    "\n",
    "# Create cursor\n",
    "cur = conn.cursor()\n",
    "\n",
    "# Replace spaces and dots in table name\n",
    "table_name_sanitized = table_name.replace(' ', '_').replace('.', '_')\n",
    "\n",
    "# Create table in Snowflake with dynamically generated column definitions\n",
    "column_definitions = ', '.join([f'\"{col}\" STRING' for col in df.columns])\n",
    "cur.execute(f'CREATE OR REPLACE TABLE \"{schema}\".\"{table_name_sanitized}\" ({column_definitions})')\n",
    "\n",
    "# Write DataFrame to Snowflake table\n",
    "df.write.format(\"snowflake\") \\\n",
    "    .option(\"sfURL\", snowflake_url) \\\n",
    "    .option(\"sfUser\", user) \\\n",
    "    .option(\"sfPassword\", password) \\\n",
    "    .option(\"sfDatabase\", database) \\\n",
    "    .option(\"sfSchema\", schema) \\\n",
    "    .option(\"sfWarehouse\", warehouse) \\\n",
    "    .option(\"dbtable\", table_name_sanitized) \\\n",
    "    .mode(\"overwrite\") \\\n",
    "    .save()\n",
    "\n",
    "# Commit the transaction\n",
    "conn.commit()\n",
    "\n",
    "# Close cursor and connection\n",
    "cur.close()\n",
    "conn.close()\n"
   ]
  }
 ],
 "metadata": {
  "application/vnd.databricks.v1+notebook": {
   "dashboards": [],
   "language": "python",
   "notebookMetadata": {
    "mostRecentlyExecutedCommandWithImplicitDF": {
     "commandId": 792498217632448,
     "dataframes": [
      "_sqldf"
     ]
    },
    "pythonIndentUnit": 4
   },
   "notebookName": "store DashBoard",
   "widgets": {}
  }
 },
 "nbformat": 4,
 "nbformat_minor": 0
}
